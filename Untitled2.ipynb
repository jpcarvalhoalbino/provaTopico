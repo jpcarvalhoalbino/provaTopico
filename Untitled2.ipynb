{
  "nbformat": 4,
  "nbformat_minor": 0,
  "metadata": {
    "colab": {
      "name": "Untitled2.ipynb",
      "provenance": [],
      "collapsed_sections": [],
      "private_outputs": true,
      "toc_visible": true,
      "authorship_tag": "ABX9TyP2iJHKcXNEWXqe2eFwj2ch",
      "include_colab_link": true
    },
    "kernelspec": {
      "name": "python3",
      "display_name": "Python 3"
    },
    "language_info": {
      "name": "python"
    }
  },
  "cells": [
    {
      "cell_type": "markdown",
      "metadata": {
        "id": "view-in-github",
        "colab_type": "text"
      },
      "source": [
        "<a href=\"https://colab.research.google.com/github/jpcarvalhoalbino/provaTopico/blob/main/Untitled2.ipynb\" target=\"_parent\"><img src=\"https://colab.research.google.com/assets/colab-badge.svg\" alt=\"Open In Colab\"/></a>"
      ]
    },
    {
      "cell_type": "code",
      "execution_count": null,
      "metadata": {
        "id": "BK8SxNeatO3j"
      },
      "outputs": [],
      "source": [
        "# Fazendo os importes\n",
        "from PIL import Image\n",
        "import cv2\n",
        "import numpy as np\n",
        "from google.colab.patches import cv2_imshow\n",
        "\n",
        "\n",
        "\n",
        "# Importando da biblioteca dlib:\n",
        "import dlib"
      ]
    },
    {
      "cell_type": "code",
      "source": [
        "detector_face= dlib.get_frontal_face_detector()\n",
        "\n",
        "#detecção e criação dos quadrados da face\n",
        "\n",
        "\n",
        "imagem = cv2.imread('rostos.jpg')\n",
        "\n",
        "deteccoes= detector_face(imagem, 1)\n",
        "\n",
        "for face in deteccoes:\n",
        "  l, t, r, b= face.left(), face.top(), face.right(), face.bottom()\n",
        "  cv2.rectangle(imagem, (l,t), (r,b), (0,255,255), 2)\n",
        "\n",
        "cv2_imshow(imagem)\n",
        "\n",
        "\n",
        "\n",
        "\n",
        "\n",
        "\n",
        " "
      ],
      "metadata": {
        "id": "FCCbVtYNyf_-"
      },
      "execution_count": null,
      "outputs": []
    },
    {
      "cell_type": "code",
      "source": [
        "#localização e criação de cada marco facial\n",
        "detector_pontos = dlib.shape_predictor('/content/shape_predictor_68_face_landmarks.dat')\n",
        "\n"
      ],
      "metadata": {
        "id": "0HU1pa3w9gGv"
      },
      "execution_count": null,
      "outputs": []
    },
    {
      "cell_type": "code",
      "source": [
        "# Agora iremos ver os marcos (landmarks) imagem que carregamos anteriormente:\n",
        "imagem2 = cv2.imread('rostos.jpg')\n",
        "\n",
        "# Detectamos os retângulos encontrados na imagem e armazenamos \"deteccoes\":\n",
        "deteccoes = detector_face(imagem2, 1)\n",
        "for face in deteccoes:\n",
        "  # Para cada detecção (retângulo de uma face encontrada), encontramos os marcos faciais e armazenamos no vetor \"pontos\":\n",
        "  pontos = detector_pontos(imagem2, face)\n",
        "  # Agora desenhamos cada marco facial de cada face encontrada na imagem.\n",
        "  for ponto in pontos.parts():\n",
        "    cv2.circle(imagem2, (ponto.x, ponto.y), 2, (400,255,900), 1)\n",
        "\n",
        "  # No final desenhamos os retângulos. Caso desenhássemos antes, apagaríamos pixels das faces\n",
        "  # e prejudicaríamos o detector de marcos faciais:\n",
        "  l, t, r, b = face.left(), face.top(), face.right(), face.bottom()\n",
        "  cv2.rectangle(imagem2, (l,t), (r, b), (400,255,255), 2)\n",
        "\n",
        "\n",
        "cv2_imshow(imagem2)"
      ],
      "metadata": {
        "id": "bGLpSackRPFT"
      },
      "execution_count": null,
      "outputs": []
    },
    {
      "cell_type": "code",
      "source": [
        "# Agora iremos ver os marcos (landmarks) imagem que carregamos anteriormente:\n",
        "imagem2 = cv2.imread('rostos.jpg')\n",
        "\n",
        "# Detectamos os retângulos encontrados na imagem e armazenamos \"deteccoes\":\n",
        "deteccoes = detector_face(imagem2, 1)\n",
        "for face in deteccoes:\n",
        "  # Para cada detecção (retângulo de uma face encontrada), encontramos os marcos faciais e armazenamos no vetor \"pontos\":\n",
        "  pontos = detector_pontos(imagem2, face)\n",
        "  # Agora desenhamos cada marco facial de cada face encontrada na imagem.\n",
        "  for ponto in pontos.parts():\n",
        "    cv2.circle(imagem2, (ponto.x, ponto.y), 2, (400,255,900), 1)\n",
        "\n",
        "  vermelho= (0,0,0)\n",
        "  cv2.circle(canvas, (130,230), 50,vermelho)\n",
        "  cv2.imshow(\"Canvas\", canvas)\n",
        "  cv2.waitKey(0)\n",
        " \n",
        "\n",
        "\n"
      ],
      "metadata": {
        "id": "SMFCMy8RRc5l"
      },
      "execution_count": null,
      "outputs": []
    },
    {
      "cell_type": "code",
      "source": [
        " vermelho= (0,0,0)\n",
        "  cv2.circle(canvas, (130,230), 50,vermelho)\n",
        "  cv2.imshow(\"Canvas\", canvas)\n",
        "  cv2.waitKey(0)"
      ],
      "metadata": {
        "id": "zUePIjGFTh6J"
      },
      "execution_count": null,
      "outputs": []
    }
  ]
}